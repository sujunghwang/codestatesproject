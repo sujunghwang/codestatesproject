{
 "cells": [
  {
   "cell_type": "code",
   "execution_count": 1,
   "id": "db220059",
   "metadata": {},
   "outputs": [],
   "source": [
    "import os\n",
    "import numpy as np"
   ]
  },
  {
   "cell_type": "code",
   "execution_count": 2,
   "id": "b7ff5880",
   "metadata": {},
   "outputs": [
    {
     "data": {
      "text/plain": [
       "['culture',\n",
       " 'economy',\n",
       " 'entertainment',\n",
       " 'health',\n",
       " 'ITscience',\n",
       " 'life',\n",
       " 'politic',\n",
       " 'social',\n",
       " 'sport']"
      ]
     },
     "execution_count": 2,
     "metadata": {},
     "output_type": "execute_result"
    }
   ],
   "source": [
    "category = []\n",
    "root = \"C://Users/mcr/Desktop/CP2/news_class9x13000/\"\n",
    "\n",
    "for cat in os.listdir(root):\n",
    "    files = os.listdir(root + cat)\n",
    "    category.append(cat)\n",
    "  \n",
    "category"
   ]
  },
  {
   "cell_type": "code",
   "execution_count": 3,
   "id": "642058e8",
   "metadata": {
    "scrolled": true
   },
   "outputs": [
    {
     "name": "stdout",
     "output_type": "stream",
     "text": [
      "9000 900 900\n"
     ]
    },
    {
     "data": {
      "text/plain": [
       "'보이는 게 다가 아니다!\\n잡지사 기자 생활 20년, 미혼에 독신, 다른 사람보다 10년 일찍 퇴직해 전원생활 시작, 노년을 미리 미리 생각하고 재산 정리해서 일찌감치 실비노인요양시설 입소, 현재 나이 71세, 시인이며 수필가에다가 이번에 아름다운 노년과 품위있는 죽음에 대한 이야기를 담은 책 출간.\\n책 <반만 버려도 행복하다>의 저자는 이렇게 내게 다가왔다.\\n글은 깔끔하고 군더더기 없어\\n그 누구에게도 곁을 주지 않을 것만 같았다.\\n함께 생활하는 요양원 식구들에 대한 이야기는 솔직하다 못해 문제점까지 따박따박 따지고 있었고, 죽음에 대한 생각 역시 자신과 동년배 노인들 처지를 있는 그대로 드러내며 인식과 제도의 개선을 힘있게 외치고 있었다.\\n생긴 모습의 차이만큼이나 살아온 역사가 각기 다른 노인들이 한 공간에 모여 산다는 일, 직접 눈으로 보지 않아도 그 어려움은 짐작이 가고도 남는다.\\n거기다가 오갈 데 없어 누군가의 보호와 보살핌을 받는 것도 아니고, 자기 선택으로 자기 돈을 내고 입소했으니 목소리 또한 당당하고 높을 수밖에 없을 것이다.\\n한 공간에서 얼굴을 맞대고 살면서 늘 함께 밥 먹으며 살다보면 보고 싶지 않아도 보일 것이며, 알리고 싶지 않아도 알리게 되는 처지에 놓을 것은 뻔한 일. 그래도 저자는 무조건 노인을 편들거나 이해해 달라고 호소하지 않는다.\\n그저 있는 그대로의 이야기를 통해 노년의 삶을 보여주면서 오히려 제대로 된 노년을 살기 위해 명심해야 할 것들을 짚어내고 있다.\\n외로워도 한 그루 나무로 서야 한다, 과거를 버려야 현재가 즐겁다, 미식가들의 불행, 자식자랑 팔불출 과거자랑 칠불출, 잡고 있는 손목을 놓아라, 재물에 목슴\\n걸지는 말아야 한다, 늙음은 특권이 아니다...\\n소제목만 봐도 알 수 있을 정도로 저자는 아름다운 노년을 위해 노인 스스로 해야만 할 일들을 이야기하고 있다.\\n이것은 비단 노년에만 해당되는 것은 아니어서 나같은 중년에게도, 젊은 청춘에게도 똑같이 유효하다.\\n여기에 더해 그동안 요양원에서 지켜본 많은 노인들의 죽음의 현실을 사례로 들며 존엄한 죽음을 호소력있게 이야기하고 있어, 요즘 많은 관심을 모으는 존엄사 혹은 무의미한 연명치료의 중단에 대한 생각을 자연스레 정리할 수 있다.\\n지난 6월 25일, 내가 운영하는 노인복지 학습모임인 어르신사랑연구모임(어사연)의 월례 정기모임인 어사연 공부방이 신촌의 한 세미나룸에서 있었다.\\n생각지 못한 인연의 끈으로 이 책의 저자 이정옥 님을 모시고 조촐한 저자와의 대화 시간을 가지게 되었다.\\n71세로는 보이지 않는 젊고 건강한 모습의 이정옥 님은 글의 간결함과 단호함만큼이나 강하고 똑부러지는 음성과 말투로 말씀을 시작하셨다.\\n요양원 입소 배경과 생활, 그곳에서 지켜본 다른 노인들의 죽음의 방식까지 거침없이 이어졌다.\\n그런데 남은 생을 안전하고 평화롭게 보내고자 입소한 요양원 생활에 커다란 문제가 발생했다는 대목에 이르러서는 저자의 목소리가 더할 수 없이 커졌다.\\n2008년 7월 1일부터 시행된 노인장기요양보험제도에 따라 노인복지시설이 통합 개편되면서, 저자가 살고있는 요양원에 치매나 중풍 등의 중증환자들만 입소하게 된 것. 기존에 살고 있던 분들은 그대로 살 수는 있지만 생활 환경이 백 퍼센트 달라질 수밖에 없고, 처음 입소 상황과는 판이하게 변해 버린 것이다.\\n자신의 전 재산을 내고 입소한 처음과는 완전 다른 상황이 되었으니 어느 누가 가만 앉아서 이런 변화를 받아들일 수 있겠는가.\\n이정옥 님은 앞으로 끊임없이 문제 제기를 하고 싸우겠다고 결의를 밝히면서 노인복지를 하는 여러분이 좀 도와달라고 여러 차례 말씀하셨다.\\n어사연 공부방에서는 보통 사회복지사같은 현장 전문가들의 경험과 기술, 지식을 나누게 되기 때문에, 이렇게 당사자인 노년에게 직접 이야기를 듣고 의견을 나누는 일은 모두에게 더할 수 없이 귀중한 시간일 수밖에 없다.\\n돌아가며 소감을 들어보니 노년에게 직접 듣는 노년 이야기라서 좋았다, 책을 읽으며 자연스럽게 내 부모님의 노년과 나의 노년을 생각해볼 수 있었다는 이야기가 많았다.\\n나 역시 책을 읽기 시작하며 가졌던 저자의 경력과 배경에 대한 선입견을 넘어서는 그 무엇이 있음을 느꼈다.\\n자신의 노년을 스스로 설계하고, 그것을 실천하기 위해서 행동으로 옮기고, 그 안에서 자족하는 삶. 그러나 그 평화와 안온함을 깨뜨리는 제도의 폭력. 그러니 어찌 눈에 보이는 것이 다이며, 내가 아는 것이 전부라고 하겠는가.\\n그날 소감을 나누는 자리에서 누군가는 저자의 글이 스타카토 같다고 표현했는데, 말씀 역시 마찬가지였다.\\n강했고 당당했고 분명했다.\\n그러나 그 안에는 부드러움도 있었고 웃음도 있었고 여유도 있었다.\\n삶의 경험과 경륜을 바탕으로 현재 처한 자리에서 성숙한 삶을 꿈꾸면서, 잘못된 것은 잘못 됐다고 말하며 소리높여 개선을 요구할 줄 아는 것. 이것이야말로 우리가 인생의 선배에게 배워야 할 덕목 가운데 하나가 아닐까.\\n책과 사람 모두 귀하게 다가온 좋은 경험이었다.'"
      ]
     },
     "execution_count": 3,
     "metadata": {},
     "output_type": "execute_result"
    }
   ],
   "source": [
    "train = []\n",
    "test = []\n",
    "val = []\n",
    "\n",
    "list = os.listdir(root)\n",
    "for cat in list:\n",
    "  files = os.listdir(root + cat)\n",
    "  for i,f in enumerate(files):\n",
    "    fname = root + cat + \"/\" + f\n",
    "    file = open(fname, \"r\", encoding='utf-8')\n",
    "    strings = file.read()\n",
    "    if i<1000:\n",
    "      train.append(strings)\n",
    "    elif i<1100:\n",
    "      test.append(strings)\n",
    "    elif i<1200:\n",
    "      val.append(strings)\n",
    "    file.close()\n",
    "\n",
    "print(len(train), len(test), len(val))\n",
    "\n",
    "train[0]"
   ]
  },
  {
   "cell_type": "code",
   "execution_count": 6,
   "id": "8fa162d7",
   "metadata": {},
   "outputs": [
    {
     "data": {
      "text/plain": [
       "(362503, 36042, 36175)"
      ]
     },
     "execution_count": 6,
     "metadata": {},
     "output_type": "execute_result"
    }
   ],
   "source": [
    "len_train, len_test, len_val = 0,0,0\n",
    "for i in train:\n",
    "    len_train += len(i.split('\\n'))\n",
    "for i in test:\n",
    "    len_test += len(i.split('\\n'))\n",
    "for i in val:\n",
    "    len_val += len(i.split('\\n'))\n",
    "\n",
    "len_train, len_test, len_val"
   ]
  },
  {
   "cell_type": "code",
   "execution_count": 7,
   "id": "c9fdb416",
   "metadata": {},
   "outputs": [],
   "source": [
    "def write_dataset(file_name, dataset):\n",
    "    with open(\n",
    "        os.path.join(\"C://Users/mcr/Desktop/python/\", file_name), mode=\"w\", encoding=\"utf-8\"\n",
    "    ) as f:\n",
    "        for data in dataset:\n",
    "            f.write(data)\n",
    "\n",
    "write_dataset(\"train.txt\", train)\n",
    "write_dataset(\"val.txt\", val)\n",
    "write_dataset(\"test.txt\", test)"
   ]
  }
 ],
 "metadata": {
  "interpreter": {
   "hash": "8ca314b81ff11024e1d88600edb39d5575775917616c8d4d9e8dc26cc9e70e6f"
  },
  "kernelspec": {
   "display_name": "cp2-3",
   "language": "python",
   "name": "python3"
  },
  "language_info": {
   "codemirror_mode": {
    "name": "ipython",
    "version": 3
   },
   "file_extension": ".py",
   "mimetype": "text/x-python",
   "name": "python",
   "nbconvert_exporter": "python",
   "pygments_lexer": "ipython3",
   "version": "3.7.11"
  }
 },
 "nbformat": 4,
 "nbformat_minor": 5
}
